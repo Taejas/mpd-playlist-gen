{
 "cells": [
  {
   "cell_type": "code",
   "execution_count": null,
   "id": "d6dd4f93",
   "metadata": {
    "id": "d6dd4f93"
   },
   "outputs": [],
   "source": [
    "from collections import Counter\n",
    "import csv\n",
    "import json\n",
    "import matplotlib.pyplot as plt\n",
    "import numpy as np\n",
    "import pickle\n",
    "import random\n",
    "from tqdm import tqdm"
   ]
  },
  {
   "cell_type": "code",
   "execution_count": null,
   "id": "64815df3",
   "metadata": {
    "id": "64815df3"
   },
   "outputs": [],
   "source": [
    "def get_nk_playlist_data(n = 10, stagger = 0):\n",
    "\n",
    "    combined_data = []\n",
    "    progress_bar = tqdm(total = n, desc = \"Progress\", ncols = 100)\n",
    "\n",
    "    for i in range(n):\n",
    "        i1 = stagger + i * 1000\n",
    "        i2 = stagger + i * 1000 + 999\n",
    "        filename = \"Dataset/spotify_million_playlist_dataset/data/mpd.slice.\" + str(i1) + \"-\" + str(i2) + \".json\"\n",
    "        data = json.load(open(filename))\n",
    "        for playlist in data[\"playlists\"]:\n",
    "            combined_data.append(playlist)\n",
    "        progress_bar.update(1)\n",
    "    progress_bar.close()\n",
    "\n",
    "    return combined_data"
   ]
  },
  {
   "cell_type": "code",
   "execution_count": null,
   "id": "65be0b0c",
   "metadata": {
    "id": "65be0b0c"
   },
   "outputs": [],
   "source": [
    "# Return a new dictionary with the keys typecasted as str\n",
    "def convert_keys_to_str(D):\n",
    "    return {str(k): v for k, v in D.items()}\n",
    "\n",
    "# Return a new dictionary with the keys typecasted back to the original data type\n",
    "def convert_keys_to_original(D):\n",
    "    return {eval(k): v for k, v in D.items()}"
   ]
  },
  {
   "cell_type": "code",
   "execution_count": null,
   "id": "ef28680a",
   "metadata": {
    "id": "ef28680a",
    "outputId": "0feba35b-5b4a-438d-99ef-86b3773d2434"
   },
   "outputs": [
    {
     "name": "stderr",
     "output_type": "stream",
     "text": [
      "Progress: 100%|███████████████████████████████████████████████████████| 1/1 [00:00<00:00,  5.92it/s]\n"
     ]
    }
   ],
   "source": [
    "TRAIN_N_K = 1\n",
    "train_data = get_nk_playlist_data(n = TRAIN_N_K)"
   ]
  },
  {
   "cell_type": "code",
   "execution_count": null,
   "id": "b21d8038",
   "metadata": {
    "id": "b21d8038",
    "outputId": "138a5c8b-146e-45f3-decd-d30bc04b1f4d"
   },
   "outputs": [
    {
     "name": "stderr",
     "output_type": "stream",
     "text": [
      "Progress: 100%|████████████████████████████████████████████████| 1000/1000 [00:01<00:00, 578.08it/s]\n"
     ]
    }
   ],
   "source": [
    "# Create a tracks dictionary and co-occurrence sparse matrix using the training data\n",
    "\n",
    "tracks_dict = {}\n",
    "tracks_fq = {}\n",
    "co_occurrence = {}\n",
    "idx = 1\n",
    "\n",
    "progress_bar = tqdm(total = len(train_data), desc = \"Progress\", ncols = 100)\n",
    "\n",
    "for playlist in train_data:\n",
    "\n",
    "    playlist_track_ids = []\n",
    "    for track in playlist['tracks']:\n",
    "        if track['track_uri'] not in tracks_dict:\n",
    "            tracks_dict[track['track_uri']] = idx\n",
    "            tracks_fq[idx] = 1\n",
    "            idx += 1\n",
    "        else:\n",
    "            tracks_fq[tracks_dict[track['track_uri']]] += 1\n",
    "        playlist_track_ids.append(tracks_dict[track['track_uri']])\n",
    "\n",
    "    for i in range(len(playlist_track_ids)):\n",
    "        for j in range(i + 1, len(playlist_track_ids)):\n",
    "            id_i = playlist_track_ids[i]\n",
    "            id_j = playlist_track_ids[j]\n",
    "\n",
    "            if id_i not in co_occurrence:\n",
    "                co_occurrence[id_i] = {id_j: 1}\n",
    "            elif id_j not in co_occurrence[id_i]:\n",
    "                co_occurrence[id_i][id_j] = 1\n",
    "            else:\n",
    "                co_occurrence[id_i][id_j] += 1\n",
    "\n",
    "            if id_j not in co_occurrence:\n",
    "                co_occurrence[id_j] = {id_i: 1}\n",
    "            elif id_i not in co_occurrence[id_j]:\n",
    "                co_occurrence[id_j][id_i] = 1\n",
    "            else:\n",
    "                co_occurrence[id_j][id_i] += 1\n",
    "\n",
    "    progress_bar.update(1)\n",
    "progress_bar.close()\n",
    "\n",
    "tracks_fq = dict(sorted(tracks_fq.items(), key=lambda item: item[1], reverse=True))\n",
    "reverse_tracks_dict = {v: k for k, v in tracks_dict.items()}\n",
    "top_500_tracks = list(tracks_fq.keys())[: 500]"
   ]
  },
  {
   "cell_type": "code",
   "execution_count": null,
   "id": "211602ab",
   "metadata": {
    "id": "211602ab"
   },
   "outputs": [],
   "source": [
    "def get_stratified_test_set_data(filename):\n",
    "\n",
    "    stratified_data = []\n",
    "\n",
    "    data = json.load(open(filename))\n",
    "    for playlist in data[\"playlists\"]:\n",
    "        stratified_data.append(playlist)\n",
    "\n",
    "    return stratified_data"
   ]
  },
  {
   "cell_type": "code",
   "execution_count": null,
   "id": "111c452a",
   "metadata": {
    "id": "111c452a"
   },
   "outputs": [],
   "source": [
    "ordered_data = get_stratified_test_set_data(filename = \"Dataset/test_set_1k_1k_26_90_unordered.json\")"
   ]
  },
  {
   "cell_type": "code",
   "execution_count": null,
   "id": "4866c1da",
   "metadata": {
    "id": "4866c1da",
    "outputId": "4c3f0618-cf67-4777-fbe2-6cc15c065d25"
   },
   "outputs": [
    {
     "name": "stderr",
     "output_type": "stream",
     "text": [
      "Progress: 100%|██████████████████████████████████████████████| 1000/1000 [00:00<00:00, 38117.91it/s]\n"
     ]
    }
   ],
   "source": [
    "# Stratified sampled data with 1000 playlists having 25 tracks provided\n",
    "\n",
    "STRATIFIED_SIZE = 1000\n",
    "\n",
    "ordered_tracks_x = []\n",
    "stratified_pids = []\n",
    "count = 0\n",
    "\n",
    "progress_bar = tqdm(total = STRATIFIED_SIZE, desc = \"Progress\", ncols = 100)\n",
    "\n",
    "for playlist in ordered_data:\n",
    "\n",
    "    stratified_pids.append(playlist['pid'])\n",
    "    x_list = []\n",
    "\n",
    "    for i in range(len(playlist['tracks'])):\n",
    "        track = playlist['tracks'][i]\n",
    "        # Only accounting for the tracks in our training data - will have at least 23 tracks as THRESHOLD_PERC is 90\n",
    "        if track['track_uri'] in tracks_dict:\n",
    "            track_id = tracks_dict[track['track_uri']]\n",
    "            x_list.append(track_id)\n",
    "    ordered_tracks_x.append(x_list)\n",
    "\n",
    "    progress_bar.update(1)\n",
    "progress_bar.close()"
   ]
  },
  {
   "cell_type": "markdown",
   "id": "4ea41c3f",
   "metadata": {
    "id": "4ea41c3f"
   },
   "source": [
    "# Predict top 500 most frequent tracks"
   ]
  },
  {
   "cell_type": "code",
   "execution_count": null,
   "id": "d1a0915e",
   "metadata": {
    "id": "d1a0915e",
    "outputId": "3cf67c4d-7605-4d46-9163-79f1b47283fc"
   },
   "outputs": [
    {
     "name": "stderr",
     "output_type": "stream",
     "text": [
      "Progress: 100%|█████████████████████████████████████████████| 1000/1000 [00:00<00:00, 999357.64it/s]\n"
     ]
    }
   ],
   "source": [
    "# Make predictions on stratified sampled set\n",
    "\n",
    "ordered_tracks_y_pred = []\n",
    "\n",
    "progress_bar = tqdm(total = len(ordered_tracks_x), desc = \"Progress\", ncols = 100)\n",
    "\n",
    "for i in range(len(ordered_tracks_x)):\n",
    "    ordered_tracks_y_pred.append(top_500_tracks)\n",
    "\n",
    "    progress_bar.update(1)\n",
    "progress_bar.close()"
   ]
  },
  {
   "cell_type": "code",
   "execution_count": null,
   "id": "66af934d",
   "metadata": {
    "id": "66af934d"
   },
   "outputs": [],
   "source": [
    "# Write to json\n",
    "\n",
    "ordered_dict = {}\n",
    "\n",
    "ordered_tracks_y_pred_uris = [[reverse_tracks_dict[key] for key in inner_list] for inner_list in ordered_tracks_y_pred]\n",
    "\n",
    "for i in range(len(stratified_pids)):\n",
    "    ordered_dict[stratified_pids[i]] = ordered_tracks_y_pred_uris[i]\n",
    "\n",
    "with open(\"pred_1k_1k_26_90_unordered_top_500.json\", 'w') as pred_file:\n",
    "    json.dump(ordered_dict, pred_file, indent = 4)"
   ]
  },
  {
   "cell_type": "markdown",
   "id": "730624d5",
   "metadata": {
    "id": "730624d5"
   },
   "source": [
    "# Predict 500 random tracks"
   ]
  },
  {
   "cell_type": "code",
   "execution_count": null,
   "id": "ca3951dd",
   "metadata": {
    "id": "ca3951dd",
    "outputId": "e486bcfa-914b-4905-fc67-88168af2097b"
   },
   "outputs": [
    {
     "name": "stderr",
     "output_type": "stream",
     "text": [
      "Progress: 100%|███████████████████████████████████████████████| 1000/1000 [00:00<00:00, 1263.33it/s]\n"
     ]
    }
   ],
   "source": [
    "# Make predictions on stratified sampled set\n",
    "\n",
    "ordered_tracks_y_pred = []\n",
    "\n",
    "progress_bar = tqdm(total = len(ordered_tracks_x), desc = \"Progress\", ncols = 100)\n",
    "\n",
    "for i in range(len(ordered_tracks_x)):\n",
    "    ordered_tracks_y_pred.append(random.sample(list(range(1, len(tracks_dict) + 1)), k = 500))\n",
    "\n",
    "    progress_bar.update(1)\n",
    "progress_bar.close()"
   ]
  },
  {
   "cell_type": "code",
   "execution_count": null,
   "id": "1d8097ef",
   "metadata": {
    "id": "1d8097ef"
   },
   "outputs": [],
   "source": [
    "# Write to json\n",
    "\n",
    "ordered_dict = {}\n",
    "\n",
    "ordered_tracks_y_pred_uris = [[reverse_tracks_dict[key] for key in inner_list] for inner_list in ordered_tracks_y_pred]\n",
    "\n",
    "for i in range(len(stratified_pids)):\n",
    "    ordered_dict[stratified_pids[i]] = ordered_tracks_y_pred_uris[i]\n",
    "\n",
    "with open(\"pred_1k_1k_26_90_unordered_random.json\", 'w') as pred_file:\n",
    "    json.dump(ordered_dict, pred_file, indent = 4)"
   ]
  },
  {
   "cell_type": "markdown",
   "id": "3a6a9d96",
   "metadata": {
    "id": "3a6a9d96"
   },
   "source": [
    "# Check percentage of songs that are in top 500"
   ]
  },
  {
   "cell_type": "code",
   "execution_count": null,
   "id": "8d0723a8",
   "metadata": {
    "id": "8d0723a8",
    "outputId": "c5ee1d86-c097-4e33-a42d-f5724a3f1504"
   },
   "outputs": [
    {
     "name": "stderr",
     "output_type": "stream",
     "text": [
      "Progress: 100%|███████████████████████████████████████████████| 1000/1000 [00:00<00:00, 2390.62it/s]\n"
     ]
    }
   ],
   "source": [
    "num_total = 0\n",
    "num_top_500 = 0\n",
    "\n",
    "progress_bar = tqdm(total = len(train_data), desc = \"Progress\", ncols = 100)\n",
    "\n",
    "for playlist in train_data:\n",
    "\n",
    "    for track in playlist['tracks']:\n",
    "        if tracks_dict[track['track_uri']] in top_500_tracks:\n",
    "            num_top_500 += 1\n",
    "        num_total += 1\n",
    "\n",
    "    progress_bar.update(1)\n",
    "progress_bar.close()"
   ]
  },
  {
   "cell_type": "code",
   "execution_count": null,
   "id": "5004bd90",
   "metadata": {
    "id": "5004bd90",
    "outputId": "6be497f7-190c-4be9-c51d-290eae0c1fe3"
   },
   "outputs": [
    {
     "name": "stdout",
     "output_type": "stream",
     "text": [
      "67503\n",
      "9588\n",
      "0.14203813163859383\n"
     ]
    }
   ],
   "source": [
    "print(num_total)\n",
    "print(num_top_500)\n",
    "print(num_top_500 / num_total)"
   ]
  },
  {
   "cell_type": "code",
   "execution_count": null,
   "id": "aabd4da9",
   "metadata": {
    "id": "aabd4da9",
    "outputId": "115ac9c9-7f17-4a39-df8a-bd758e9cff28"
   },
   "outputs": [
    {
     "data": {
      "image/png": "[encoded data removed]",
      "text/plain": [
       "<Figure size 640x480 with 1 Axes>"
      ]
     },
     "metadata": {},
     "output_type": "display_data"
    }
   ],
   "source": [
    "# Count the frequency of each item\n",
    "frequency_list = list(tracks_fq.values())\n",
    "frequency = Counter(frequency_list)\n",
    "\n",
    "# Sort items based on frequency\n",
    "sorted_items = sorted(frequency.items(), key=lambda x: x[1], reverse=True)\n",
    "\n",
    "# Separate items and their frequencies\n",
    "items, counts = zip(*sorted_items)\n",
    "\n",
    "# Plot frequency distribution\n",
    "plt.bar(items, counts)\n",
    "plt.xlabel('Frequency')\n",
    "plt.ylabel('Number of Tracks (log scale)')\n",
    "plt.yscale('log')\n",
    "plt.show()"
   ]
  },
  {
   "cell_type": "code",
   "execution_count": null,
   "id": "49bf8218",
   "metadata": {
    "id": "49bf8218",
    "outputId": "db2d8d24-fdf6-42c0-95f8-5ba5144ac2b7"
   },
   "outputs": [
    {
     "name": "stdout",
     "output_type": "stream",
     "text": [
      "Counter({1: 24808, 2: 4283, 3: 1739, 4: 959, 5: 596, 6: 449, 7: 316, 8: 252, 9: 171, 10: 145, 11: 124, 12: 80, 13: 76, 14: 64, 15: 61, 17: 49, 18: 36, 16: 35, 20: 27, 21: 25, 19: 25, 23: 20, 26: 13, 22: 12, 28: 11, 27: 10, 25: 9, 24: 7, 29: 6, 35: 5, 30: 5, 39: 4, 31: 4, 33: 3, 38: 2, 34: 2, 32: 2, 55: 1, 52: 1, 50: 1, 46: 1, 44: 1, 42: 1, 37: 1, 36: 1})\n"
     ]
    }
   ],
   "source": [
    "print(frequency)"
   ]
  }
 ],
 "metadata": {
  "colab": {
   "provenance": []
  },
  "kernelspec": {
   "display_name": "Python 3 (ipykernel)",
   "language": "python",
   "name": "python3"
  },
  "language_info": {
   "codemirror_mode": {
    "name": "ipython",
    "version": 3
   },
   "file_extension": ".py",
   "mimetype": "text/x-python",
   "name": "python",
   "nbconvert_exporter": "python",
   "pygments_lexer": "ipython3",
   "version": "3.11.5"
  }
 },
 "nbformat": 4,
 "nbformat_minor": 5
}
