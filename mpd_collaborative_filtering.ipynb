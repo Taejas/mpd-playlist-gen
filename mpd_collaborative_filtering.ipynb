{
 "cells": [
  {
   "cell_type": "code",
   "execution_count": null,
   "metadata": {
    "id": "Ycgtl3YKo5Eu"
   },
   "outputs": [],
   "source": [
    "import json\n",
    "from sklearn.model_selection import train_test_split\n",
    "import numpy as np\n",
    "import pandas as pd\n",
    "from sklearn.metrics.pairwise import cosine_similarity\n",
    "from scipy.stats import pearsonr"
   ]
  },
  {
   "cell_type": "code",
   "execution_count": null,
   "metadata": {
    "id": "BCxordiGuBNI"
   },
   "outputs": [],
   "source": [
    "# Return the first 1000 playlists\n",
    "\n",
    "def getplaylist(n = 1):\n",
    "    combinedData=[]\n",
    "    for i in range(n):\n",
    "        i1 = i*1000\n",
    "        i2 = i*1000+999\n",
    "        filename=\"Dataset/spotify_million_playlist_dataset/data/mpd.slice.\"+str(i1)+\"-\"+str(i2)+\".json\"\n",
    "        # print(filename)\n",
    "        data = json.load(open(filename))\n",
    "        for j in data[\"playlists\"]:\n",
    "            combinedData.append(j)\n",
    "\n",
    "    return combinedData"
   ]
  },
  {
   "cell_type": "code",
   "execution_count": null,
   "metadata": {
    "id": "ibaBfobXxqTp"
   },
   "outputs": [],
   "source": [
    "# Return 1000 test playlists\n",
    "\n",
    "def gettestplaylist():\n",
    "    combinedData=[]\n",
    "    file_path = \"Dataset/test_set_1k_1k_26_90_unordered.json\"\n",
    "    data = json.load(open(filename))\n",
    "    for j in data[\"playlists\"]:\n",
    "        combinedData.append(j)\n",
    "    return combinedData"
   ]
  },
  {
   "cell_type": "code",
   "execution_count": null,
   "metadata": {
    "id": "uCCAgJqE2P1y"
   },
   "outputs": [],
   "source": [
    "# Get track information from each playlist and structure them as 2D boolean arrays\n",
    "\n",
    "def get_tracks(data):\n",
    "    playlistdata = {}\n",
    "    for i in range(len(data)):\n",
    "        temp = []\n",
    "        playlistname = data[i]['pid']\n",
    "        tempval = data[i]['tracks']\n",
    "        temp = [tempval[j]['track_uri'] for j in range(len(tempval))]\n",
    "        playlistdata[int(playlistname)] = temp\n",
    "\n",
    "    playlistdata = {playlist: list(set(tracks)) for playlist, tracks in playlistdata.items()}\n",
    "\n",
    "    all_tracks = list(set(track for tracks in playlistdata.values() for track in tracks))\n",
    "    #Populate the Dataframe\n",
    "    df = pd.DataFrame(index=playlistdata.keys(), columns=all_tracks)\n",
    "    for playlist, tracks in playlistdata.items():\n",
    "        df.loc[playlist, tracks] = 1\n",
    "    df.fillna(0, inplace=True)\n",
    "    return df"
   ]
  },
  {
   "cell_type": "code",
   "execution_count": null,
   "metadata": {
    "id": "mJRMpSpWjPGz"
   },
   "outputs": [],
   "source": [
    "# Return recommended tracks corresponding to each playlist\n",
    "\n",
    "def getsimilarplaylist(X_test, X_train):\n",
    "    # Get all missing tracks in test playlist\n",
    "    new_columns = X_train.columns.difference(X_test.columns)\n",
    "    recommend = []\n",
    "    # Populate zero for each missing track in all playlists\n",
    "    X_test.loc[:, new_columns] = 0\n",
    "\n",
    "    # Run cosine similarity to get the top playlists and get 500 popular tracks\n",
    "    # Sort the playlist based on similarity index and sum of track occurences\n",
    "    for i in range(len(X_test)):\n",
    "        test_playlist = np.array(X_test.iloc[i]).reshape(-1,1).T\n",
    "        playlist_similarity = cosine_similarity(X_train, test_playlist)\n",
    "        similar_playlists_indices = np.argsort(playlist_similarity[:, 0])[::-1][:100]\n",
    "        aggregate_preferences = np.sum(X_train.iloc[similar_playlists_indices])\n",
    "        recommended_tracks_indices = np.where((test_playlist == 0) & (aggregate_preferences > 0))[0]\n",
    "        recommended_track = aggregate_preferences[recommended_tracks_indices][:500]\n",
    "        recommend.append([recommended_track.keys()])\n",
    "\n",
    "    return recommend"
   ]
  },
  {
   "cell_type": "code",
   "execution_count": null,
   "metadata": {
    "colab": {
     "base_uri": "https://localhost:8080/"
    },
    "id": "aLLsBBySpfnw",
    "outputId": "b591af48-b0ee-417e-a4ba-d59e2723d115"
   },
   "outputs": [],
   "source": [
    "# Get playlist and track matrix\n",
    "data = getplaylist(n=1)\n",
    "df = get_tracks(data)\n",
    "\n",
    "# Sort and create a dataframe based on track information\n",
    "temp = np.sum(df, axis=0)\n",
    "x = np.argsort(temp)[::-1]\n",
    "X_train = df.iloc[:, x]"
   ]
  },
  {
   "cell_type": "code",
   "execution_count": null,
   "metadata": {
    "id": "4TqOXxSewhlc",
    "outputId": "8244d7c3-0097-4e54-9c24-80828325c57d"
   },
   "outputs": [],
   "source": [
    "# Get test playlist and track matrix\n",
    "X_test_d = gettestplaylist()\n",
    "X_test_s = get_tracks(X_test_d)\n",
    "\n",
    "# Sort and create a dataframe based on track information\n",
    "temp1 = np.sum(X_test_s, axis =0)\n",
    "t = np.argsort(temp1)[::-1]\n",
    "X_test = X_test_s.iloc[:, t]"
   ]
  },
  {
   "cell_type": "code",
   "execution_count": null,
   "metadata": {
    "colab": {
     "base_uri": "https://localhost:8080/"
    },
    "id": "Jd8sYD5UThMo",
    "outputId": "31c98c26-7543-419f-c97b-03d9ee85eeda"
   },
   "outputs": [],
   "source": [
    "# Get similar recommendation of tracks for each playlist\n",
    "playlist = getsimilarplaylist(X_test, X_train)"
   ]
  },
  {
   "cell_type": "code",
   "execution_count": null,
   "metadata": {
    "id": "IBXiHkXLET8v"
   },
   "outputs": [],
   "source": [
    "recommendations_dict = {}\n",
    "\n",
    "# Create dictionary for storing recommendations corresponding to each playlist\n",
    "for i in range(len(playlist)):\n",
    "    flattened_array = pd.DataFrame(playlist[i])\n",
    "    tp = X_test_d[i]['pid']\n",
    "    recommendations_dict[tp] = flattened_array.values.tolist()[0]"
   ]
  },
  {
   "cell_type": "code",
   "execution_count": null,
   "metadata": {
    "id": "kQghd9bhKeyN",
    "outputId": "db804c43-e1eb-4313-e29d-ceb233c6a965"
   },
   "outputs": [],
   "source": [
    "# Output recommendations to a JSON file\n",
    "output_file_path = \"pred_1k_1k_26_90_unordered_cf.json\"\n",
    "with open(output_file_path, \"w\") as json_file:\n",
    "    json.dump(recommendations_dict, json_file)\n",
    "\n",
    "print(\"Recommendations saved to:\", output_file_path)"
   ]
  }
 ],
 "metadata": {
  "colab": {
   "provenance": []
  },
  "kernelspec": {
   "display_name": "Python 3 (ipykernel)",
   "language": "python",
   "name": "python3"
  },
  "language_info": {
   "codemirror_mode": {
    "name": "ipython",
    "version": 3
   },
   "file_extension": ".py",
   "mimetype": "text/x-python",
   "name": "python",
   "nbconvert_exporter": "python",
   "pygments_lexer": "ipython3",
   "version": "3.11.5"
  }
 },
 "nbformat": 4,
 "nbformat_minor": 1
}
