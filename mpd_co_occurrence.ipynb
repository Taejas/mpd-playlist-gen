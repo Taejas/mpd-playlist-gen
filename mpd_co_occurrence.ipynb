{
 "cells": [
  {
   "cell_type": "code",
   "execution_count": null,
   "id": "5a8affb9",
   "metadata": {
    "id": "5a8affb9"
   },
   "outputs": [],
   "source": [
    "import csv\n",
    "import json\n",
    "import matplotlib.pyplot as plt\n",
    "import numpy as np\n",
    "import pickle\n",
    "import random\n",
    "from tqdm import tqdm"
   ]
  },
  {
   "cell_type": "code",
   "execution_count": null,
   "id": "61fa5166",
   "metadata": {
    "id": "61fa5166"
   },
   "outputs": [],
   "source": [
    "def get_nk_playlist_data(n = 10, stagger = 0):\n",
    "\n",
    "    combined_data = []\n",
    "    progress_bar = tqdm(total = n, desc = \"Progress\", ncols = 100)\n",
    "\n",
    "    for i in range(n):\n",
    "        i1 = stagger + i * 1000\n",
    "        i2 = stagger + i * 1000 + 999\n",
    "        filename = \"Dataset/spotify_million_playlist_dataset/data/mpd.slice.\" + str(i1) + \"-\" + str(i2) + \".json\"\n",
    "        data = json.load(open(filename))\n",
    "        for playlist in data[\"playlists\"]:\n",
    "            combined_data.append(playlist)\n",
    "        progress_bar.update(1)\n",
    "    progress_bar.close()\n",
    "\n",
    "    return combined_data"
   ]
  },
  {
   "cell_type": "code",
   "execution_count": null,
   "id": "035ea2d0",
   "metadata": {
    "id": "035ea2d0"
   },
   "outputs": [],
   "source": [
    "# Return a new dictionary with the keys typecasted as str\n",
    "def convert_keys_to_str(D):\n",
    "    return {str(k): v for k, v in D.items()}\n",
    "\n",
    "# Return a new dictionary with the keys typecasted back to the original data type\n",
    "def convert_keys_to_original(D):\n",
    "    return {eval(k): v for k, v in D.items()}"
   ]
  },
  {
   "cell_type": "code",
   "execution_count": null,
   "id": "8d977d99",
   "metadata": {
    "id": "8d977d99",
    "outputId": "4b40a174-e24d-45ff-e452-3e6ba76bf092"
   },
   "outputs": [
    {
     "name": "stderr",
     "output_type": "stream",
     "text": [
      "Progress: 100%|█████████████████████████████████████████████████████| 10/10 [00:01<00:00,  7.07it/s]\n"
     ]
    }
   ],
   "source": [
    "TRAIN_N_K = 10\n",
    "train_data = get_nk_playlist_data(n = TRAIN_N_K)"
   ]
  },
  {
   "cell_type": "code",
   "execution_count": null,
   "id": "79adc3f2",
   "metadata": {
    "id": "79adc3f2",
    "outputId": "32e2e1ac-5c6a-4a0e-9c19-0b337f97af11"
   },
   "outputs": [
    {
     "name": "stderr",
     "output_type": "stream",
     "text": [
      "Progress: 100%|██████████████████████████████████████████████| 10000/10000 [00:31<00:00, 312.66it/s]\n"
     ]
    }
   ],
   "source": [
    "# Create a tracks dictionary and co-occurrence sparse matrix using the training data\n",
    "\n",
    "tracks_dict = {}\n",
    "tracks_fq = {}\n",
    "co_occurrence = {}\n",
    "idx = 1\n",
    "\n",
    "progress_bar = tqdm(total = len(train_data), desc = \"Progress\", ncols = 100)\n",
    "\n",
    "for playlist in train_data:\n",
    "\n",
    "    increment_value = 1\n",
    "    # increment_value = playlist['num_followers'] # Uncomment to weigh co-occurrences by number of playlist followers\n",
    "\n",
    "    playlist_track_ids = []\n",
    "    for track in playlist['tracks']:\n",
    "        if track['track_uri'] not in tracks_dict:\n",
    "            tracks_dict[track['track_uri']] = idx\n",
    "            tracks_fq[idx] = 1\n",
    "            idx += 1\n",
    "        else:\n",
    "            tracks_fq[tracks_dict[track['track_uri']]] += 1\n",
    "        playlist_track_ids.append(tracks_dict[track['track_uri']])\n",
    "\n",
    "    for i in range(len(playlist_track_ids)):\n",
    "        for j in range(i + 1, len(playlist_track_ids)):\n",
    "            id_i = playlist_track_ids[i]\n",
    "            id_j = playlist_track_ids[j]\n",
    "\n",
    "            if id_i not in co_occurrence:\n",
    "                co_occurrence[id_i] = {id_j: increment_value}\n",
    "            elif id_j not in co_occurrence[id_i]:\n",
    "                co_occurrence[id_i][id_j] = increment_value\n",
    "            else:\n",
    "                co_occurrence[id_i][id_j] += increment_value\n",
    "\n",
    "            if id_j not in co_occurrence:\n",
    "                co_occurrence[id_j] = {id_i: increment_value}\n",
    "            elif id_i not in co_occurrence[id_j]:\n",
    "                co_occurrence[id_j][id_i] = increment_value\n",
    "            else:\n",
    "                co_occurrence[id_j][id_i] += increment_value\n",
    "\n",
    "    progress_bar.update(1)\n",
    "progress_bar.close()\n",
    "\n",
    "tracks_fq = dict(sorted(tracks_fq.items(), key=lambda item: item[1], reverse=True))\n",
    "reverse_tracks_dict = {v: k for k, v in tracks_dict.items()}\n",
    "top_500_tracks = list(tracks_fq.keys())[: 500]"
   ]
  },
  {
   "cell_type": "code",
   "execution_count": null,
   "id": "da7b5a96",
   "metadata": {
    "id": "da7b5a96"
   },
   "outputs": [],
   "source": [
    "# # Save the co-occurrence matrix\n",
    "# pickle.dump(co_occurrence, open(\"co_occurrence_\" + str(TRAIN_N_K) + \"k.pkl\", 'wb'))"
   ]
  },
  {
   "cell_type": "code",
   "execution_count": null,
   "id": "864c4a0a",
   "metadata": {
    "id": "864c4a0a",
    "outputId": "9ce56bb8-cf95-4477-c4ce-a8734cf7455c"
   },
   "outputs": [
    {
     "name": "stdout",
     "output_type": "stream",
     "text": [
      "Number of unique tracks in training data: 170089\n"
     ]
    }
   ],
   "source": [
    "print(\"Number of unique tracks in training data: \" + str(len(tracks_dict)))"
   ]
  },
  {
   "cell_type": "markdown",
   "id": "8185c829",
   "metadata": {
    "id": "8185c829"
   },
   "source": [
    "# Random Test Dataset"
   ]
  },
  {
   "cell_type": "code",
   "execution_count": null,
   "id": "78938b9c",
   "metadata": {
    "id": "78938b9c",
    "outputId": "54df4f1c-2e4b-4bf1-cac3-a4ac8be53afa"
   },
   "outputs": [
    {
     "name": "stderr",
     "output_type": "stream",
     "text": [
      "Progress: 100%|█████████████████████████████████████████████████████| 10/10 [00:03<00:00,  2.53it/s]\n"
     ]
    }
   ],
   "source": [
    "test_data = get_nk_playlist_data(n = 10, stagger = 900000)"
   ]
  },
  {
   "cell_type": "code",
   "execution_count": null,
   "id": "59a055ab",
   "metadata": {
    "id": "59a055ab",
    "outputId": "c18c9452-de04-4de7-c2bd-43c090bf1cc5"
   },
   "outputs": [
    {
     "name": "stderr",
     "output_type": "stream",
     "text": [
      "Progress: 100%|██████████████████████████████████████████████| 1000/1000 [00:00<00:00, 10085.73it/s]\n"
     ]
    }
   ],
   "source": [
    "# Create test data with 1000 playlists having 25 tracks provided\n",
    "\n",
    "TEST_SIZE = 1000\n",
    "NUM_TRACKS_X = 25\n",
    "\n",
    "test_tracks_x = []\n",
    "test_tracks_y = []\n",
    "count = 0\n",
    "\n",
    "progress_bar = tqdm(total = TEST_SIZE, desc = \"Progress\", ncols = 100)\n",
    "\n",
    "for playlist in test_data:\n",
    "\n",
    "    if playlist['num_tracks'] > NUM_TRACKS_X:\n",
    "        x_pos_set = set(random.sample(range(playlist['num_tracks']), NUM_TRACKS_X))\n",
    "        x_list = []\n",
    "        y_list = []\n",
    "\n",
    "        for i in range(playlist['num_tracks']):\n",
    "            track = playlist['tracks'][i]\n",
    "            if i in x_pos_set:\n",
    "                # Only accounting for the tracks in our training data - might lead to less than 25 tracks\n",
    "                if track['track_uri'] in tracks_dict:\n",
    "                    track_id = tracks_dict[track['track_uri']]\n",
    "                    x_list.append(track_id)\n",
    "            else:\n",
    "                if track['track_uri'] in tracks_dict:\n",
    "                    track_id = tracks_dict[track['track_uri']]\n",
    "                    y_list.append(track_id)\n",
    "                else:\n",
    "                    y_list.append(0)\n",
    "        test_tracks_x.append(x_list)\n",
    "        test_tracks_y.append(y_list)\n",
    "\n",
    "        count += 1\n",
    "        progress_bar.update(1)\n",
    "        if count >= TEST_SIZE:\n",
    "            break\n",
    "\n",
    "progress_bar.close()"
   ]
  },
  {
   "cell_type": "code",
   "execution_count": null,
   "id": "7fae116b",
   "metadata": {
    "id": "7fae116b",
    "outputId": "23b05e2e-618c-4ca0-a813-3f237282a0bc"
   },
   "outputs": [
    {
     "data": {
      "image/png": "[encoded data removed]",
      "text/plain": [
       "<Figure size 640x480 with 1 Axes>"
      ]
     },
     "metadata": {},
     "output_type": "display_data"
    }
   ],
   "source": [
    "# Get statistics of number of known tracks out of 25 for each test playlist\n",
    "\n",
    "D = {}\n",
    "for i in range(len(test_tracks_x)):\n",
    "    num_tracks_x = len(test_tracks_x[i])\n",
    "    if num_tracks_x not in D:\n",
    "        D[num_tracks_x] = 1\n",
    "    else:\n",
    "        D[num_tracks_x] += 1\n",
    "sorted_items = sorted(D.items(), key = lambda item: item[0], reverse = True)\n",
    "x_values = [item[0] for item in sorted_items]\n",
    "y_values = [item[1] for item in sorted_items]\n",
    "plt.bar(x_values, y_values)\n",
    "plt.xlabel('Number of known tracks for making the predictions')\n",
    "plt.ylabel('Count')\n",
    "plt.show()"
   ]
  },
  {
   "cell_type": "code",
   "execution_count": null,
   "id": "db156a16",
   "metadata": {
    "id": "db156a16"
   },
   "outputs": [],
   "source": [
    "# # Load the stored co-occurrence matrix\n",
    "# co_occurrence = pickle.load(open(\"co_occurrence_100k.pkl\", 'rb'))"
   ]
  },
  {
   "cell_type": "code",
   "execution_count": null,
   "id": "c1afa01c",
   "metadata": {
    "id": "c1afa01c",
    "outputId": "6de48fb1-a9e4-48ec-f25c-160367498e6f"
   },
   "outputs": [
    {
     "name": "stderr",
     "output_type": "stream",
     "text": [
      "Progress: 100%|█████████████████████████████████████████████████| 1000/1000 [00:26<00:00, 37.46it/s]\n"
     ]
    }
   ],
   "source": [
    "# Make predictions\n",
    "\n",
    "test_tracks_y_pred = []\n",
    "\n",
    "progress_bar = tqdm(total = len(test_tracks_x), desc = \"Progress\", ncols = 100)\n",
    "\n",
    "for i in range(len(test_tracks_x)):\n",
    "    x_list = test_tracks_x[i]\n",
    "    x_set = set(x_list)\n",
    "    pred_dict = {}\n",
    "    for id_i in x_list:\n",
    "        for id_j in co_occurrence[id_i]:\n",
    "            if id_j not in x_set:\n",
    "                if id_j not in pred_dict:\n",
    "                    pred_dict[id_j] = co_occurrence[id_i][id_j]\n",
    "                else:\n",
    "                    pred_dict[id_j] += co_occurrence[id_i][id_j]\n",
    "    sorted_recs = sorted(pred_dict.items(), key = lambda item: item[1], reverse = True)\n",
    "    top_500_recs = [item[0] for item in sorted_recs[: 500]]\n",
    "\n",
    "    top_idx = 0\n",
    "    while len(top_500_recs) < 500:\n",
    "        if top_500_tracks[top_idx] not in top_500_recs:\n",
    "            top_500_recs.append(top_500_tracks[top_idx])\n",
    "        top_idx += 1\n",
    "\n",
    "    test_tracks_y_pred.append(top_500_recs)\n",
    "\n",
    "    progress_bar.update(1)\n",
    "progress_bar.close()"
   ]
  },
  {
   "cell_type": "code",
   "execution_count": null,
   "id": "7dbfcdbd",
   "metadata": {
    "id": "7dbfcdbd",
    "outputId": "acf2b868-f153-4a43-e334-8f7929639ef3"
   },
   "outputs": [
    {
     "data": {
      "image/png": "[encoded data removed]",
      "text/plain": [
       "<Figure size 640x480 with 1 Axes>"
      ]
     },
     "metadata": {},
     "output_type": "display_data"
    },
    {
     "name": "stdout",
     "output_type": "stream",
     "text": [
      "Total number of tracks to predict: 59185\n",
      "Average number of tracks to predict per playlist: 59.185\n"
     ]
    }
   ],
   "source": [
    "# Get statistics of number of tracks for each test playlist\n",
    "\n",
    "D2 = {}\n",
    "total_count = 0\n",
    "\n",
    "for i in range(len(test_tracks_y)):\n",
    "    num_tracks_y_pred = len(test_tracks_y[i])\n",
    "    if num_tracks_y_pred not in D2:\n",
    "        D2[num_tracks_y_pred] = 1\n",
    "    else:\n",
    "        D2[num_tracks_y_pred] += 1\n",
    "    total_count += num_tracks_y_pred\n",
    "sorted_items = sorted(D2.items(), key = lambda item: item[0], reverse = True)\n",
    "x_values = [item[0] for item in sorted_items]\n",
    "y_values = [item[1] for item in sorted_items]\n",
    "plt.hist(x_values, weights = y_values, bins = len(x_values) // 5, edgecolor = 'black')\n",
    "plt.xlabel('Number of tracks left to predict in each playlist')\n",
    "plt.ylabel('Frequency')\n",
    "plt.show()\n",
    "print(\"Total number of tracks to predict: \" + str(total_count))\n",
    "print(\"Average number of tracks to predict per playlist: \" + str(total_count / TEST_SIZE))"
   ]
  },
  {
   "cell_type": "code",
   "execution_count": null,
   "id": "65fd4f3c",
   "metadata": {
    "id": "65fd4f3c",
    "outputId": "c91943ae-0ffb-4cc4-a784-484b0f13eb2b"
   },
   "outputs": [
    {
     "data": {
      "image/png": "[encoded data removed]",
      "text/plain": [
       "<Figure size 640x480 with 1 Axes>"
      ]
     },
     "metadata": {},
     "output_type": "display_data"
    },
    {
     "name": "stdout",
     "output_type": "stream",
     "text": [
      "[(500, 1000)]\n"
     ]
    }
   ],
   "source": [
    "# Get statistics of number of predicted tracks for each test playlist\n",
    "\n",
    "D2 = {}\n",
    "for i in range(len(test_tracks_y_pred)):\n",
    "    num_tracks_y_pred = len(test_tracks_y_pred[i])\n",
    "    if num_tracks_y_pred not in D2:\n",
    "        D2[num_tracks_y_pred] = 1\n",
    "    else:\n",
    "        D2[num_tracks_y_pred] += 1\n",
    "sorted_items = sorted(D2.items(), key = lambda item: item[0], reverse = True)\n",
    "x_values = [item[0] for item in sorted_items]\n",
    "y_values = [item[1] for item in sorted_items]\n",
    "plt.bar(x_values, y_values)\n",
    "plt.xlabel('Number of tracks predicted in each playlist')\n",
    "plt.ylabel('Frequency')\n",
    "plt.show()\n",
    "print(sorted_items)"
   ]
  },
  {
   "cell_type": "code",
   "execution_count": null,
   "id": "efbdd210",
   "metadata": {
    "id": "efbdd210"
   },
   "outputs": [],
   "source": [
    "def r_precision(G, S):\n",
    "    if len(G) == 0:\n",
    "        return 0\n",
    "    intersection = set(S) & set(G)\n",
    "    return len(intersection) / len(G)"
   ]
  },
  {
   "cell_type": "code",
   "execution_count": null,
   "id": "39a8370c",
   "metadata": {
    "id": "39a8370c",
    "outputId": "1fb1bd56-12af-431a-fb7d-5a9c173aa4a6"
   },
   "outputs": [
    {
     "name": "stdout",
     "output_type": "stream",
     "text": [
      "1000\n"
     ]
    }
   ],
   "source": [
    "print(len(test_tracks_y))"
   ]
  },
  {
   "cell_type": "code",
   "execution_count": null,
   "id": "bdfc1395",
   "metadata": {
    "id": "bdfc1395",
    "outputId": "248e29e7-9786-45ec-c666-8447635bdb8d"
   },
   "outputs": [
    {
     "name": "stdout",
     "output_type": "stream",
     "text": [
      "0.41385653458163413\n"
     ]
    }
   ],
   "source": [
    "# Get the R-precision score\n",
    "\n",
    "total_r_precision = 0\n",
    "\n",
    "for i in range(len(test_tracks_y)):\n",
    "    total_r_precision += r_precision(test_tracks_y[i], test_tracks_y_pred[i])\n",
    "\n",
    "avg_r_precision = total_r_precision / len(test_tracks_y)\n",
    "\n",
    "print(avg_r_precision)"
   ]
  },
  {
   "cell_type": "code",
   "execution_count": null,
   "id": "abd4f3d9",
   "metadata": {
    "id": "abd4f3d9",
    "outputId": "704e3356-ee6d-426e-8ad2-01631ee25528"
   },
   "outputs": [
    {
     "name": "stdout",
     "output_type": "stream",
     "text": [
      "[558, 530, 120296, 23746, 11811, 7521, 1244, 1248, 50863, 4835, 24559]\n",
      "[1336, 2699, 2716, 1160, 1338, 2701, 2702, 4639, 4773, 8930, 5267, 4833, 4838, 1335, 6580, 4812, 1348, 10343, 512, 554, 1410, 4835, 552, 2784, 4754, 4768, 4215, 7522, 8441, 533, 5980, 3512, 7525, 1379, 1396, 1316, 3148, 4743, 405, 4756, 10345, 3546, 1926, 537, 3714, 8810, 1373, 8449, 12926, 2706, 2072, 1362, 546, 558, 1401, 1332, 8444, 3152, 1412, 1395, 4822, 5282, 1369, 3544, 8918, 3545, 2081, 4755, 539, 12918, 1364, 8440, 9801, 2707, 9022, 5262, 530, 1890, 9377, 3539, 7526, 1330, 2771, 1415, 3156, 2700, 4778, 9893, 524, 22551, 6884, 13566, 2782, 1387, 542, 4844, 16812, 3508, 4776, 9011, 9034, 10144, 3524, 3334, 3525, 7529, 2779, 6501, 4103, 1953, 4779, 1875, 14442, 6421, 1918, 14422, 514, 3523, 522, 4208, 1366, 16259, 13181, 3528, 3929, 2705, 8995, 4790, 559, 1411, 4792, 19828, 10334, 24555, 6502, 1187, 1333, 5984, 3162, 6074, 2365, 5983, 1350, 12933, 6944, 4816, 4857, 4836, 13165, 5291, 22536, 16820, 564, 11237, 3134, 1383, 3604, 13173, 16997, 2370, 8273, 3157, 3153, 550, 702, 7534, 9433, 16924, 9016, 2696, 3592, 1169, 9802, 532, 12919, 3476, 1346, 1927, 3159, 5273, 9300, 9800, 1920, 5275, 6513, 13564, 22512, 4787, 4209, 1952, 10341, 6943, 3575, 1385, 4770, 1343, 2708, 5982, 9025, 14440, 5985, 3154, 11141, 9307, 6904, 2778, 11893, 7054, 8448, 30021, 505, 3143, 4220, 1342, 1341, 5699, 4751, 6413, 1987, 8914, 8872, 9799, 12927, 28355, 7527, 1946, 14421, 14423, 8924, 14444, 9020, 1248, 22559, 2709, 9432, 1981, 1065, 8804, 5692, 14434, 12925, 16843, 3623, 1357, 5263, 560, 6323, 7990, 8902, 570, 8446, 22581, 4248, 4775, 8994, 14403, 2410, 506, 6402, 8978, 4268, 1360, 4192, 22535, 18862, 11811, 9625, 8436, 2719, 14441, 1034, 4851, 2772, 3617, 1204, 2007, 2401, 4081, 1358, 1340, 2424, 6312, 14436, 519, 13172, 1325, 13565, 15517, 3161, 1363, 1381, 9297, 8331, 10201, 6994, 44572, 2717, 15076, 34773, 11292, 6521, 23070, 8437, 4791, 12707, 10789, 1377, 6424, 4767, 4769, 3121, 1887, 1394, 6426, 4813, 4840, 9416, 18284, 4777, 16967, 515, 2720, 1964, 17820, 2713, 2724, 8309, 16806, 3608, 1928, 18705, 12924, 2074, 3543, 6449, 1161, 19834, 1337, 5534, 6, 2757, 11140, 9188, 5, 573, 26945, 32951, 9404, 3610, 3323, 5290, 6390, 9442, 3474, 1353, 7233, 12932, 4102, 11307, 6322, 19847, 1352, 571, 8834, 5987, 4750, 24544, 1049, 3579, 23746, 3494, 9550, 3514, 19846, 9378, 4772, 3603, 2109, 2079, 2711, 18283, 3924, 1243, 13176, 4830, 2745, 5297, 1038, 23763, 4832, 1374, 16808, 1219, 20249, 3521, 1955, 17326, 22588, 1664, 9397, 4749, 18870, 6056, 1829, 536, 1347, 9399, 1157, 11892, 16835, 16832, 4087, 2739, 1827, 1027, 3717, 16424, 1344, 3160, 6425, 2695, 10178, 4277, 2710, 2746, 19960, 32953, 1647, 8447, 28361, 3436, 1192, 2777, 4626, 1056, 13170, 7531, 1982, 4630, 11791, 8972, 6058, 2714, 14404, 30016, 2369, 9401, 14419, 7164, 33526, 1244, 12897, 6050, 8336, 18276, 9804, 18876, 15161, 11894, 1406, 22514, 3972, 31865, 2727, 3927, 1582, 11794, 24551, 1623, 14408, 2084, 1783, 13171, 16814, 5271, 10348, 10793, 1195, 6055, 1606, 2749, 5981, 1591, 8988, 9417, 1376, 27828, 2416, 507, 22530, 24790, 15197, 21345, 32952, 22747, 538, 553, 8310, 4817, 4260]\n",
      "{1248, 23746, 11811, 4835, 558, 530, 1244}\n",
      "0.6363636363636364\n"
     ]
    }
   ],
   "source": [
    "idx = 0\n",
    "\n",
    "print(test_tracks_y[idx])\n",
    "print(test_tracks_y_pred[idx])\n",
    "print(set(test_tracks_y[idx]) & set(test_tracks_y_pred[idx]))\n",
    "print(r_precision(test_tracks_y[idx], test_tracks_y_pred[idx]))"
   ]
  },
  {
   "cell_type": "markdown",
   "id": "a1a0ebd3",
   "metadata": {
    "id": "a1a0ebd3"
   },
   "source": [
    "# Challenge Dataset"
   ]
  },
  {
   "cell_type": "code",
   "execution_count": null,
   "id": "34357531",
   "metadata": {
    "id": "34357531"
   },
   "outputs": [],
   "source": [
    "def get_challenge_set_data():\n",
    "\n",
    "    challenge_data = []\n",
    "\n",
    "    filename = \"Dataset/spotify_million_playlist_dataset_challenge/challenge_set.json\"\n",
    "    data = json.load(open(filename))\n",
    "    for playlist in data[\"playlists\"]:\n",
    "        challenge_data.append(playlist)\n",
    "\n",
    "    return challenge_data"
   ]
  },
  {
   "cell_type": "code",
   "execution_count": null,
   "id": "03f64133",
   "metadata": {
    "id": "03f64133"
   },
   "outputs": [],
   "source": [
    "challenge_data = get_challenge_set_data()"
   ]
  },
  {
   "cell_type": "code",
   "execution_count": null,
   "id": "e5a2992f",
   "metadata": {
    "id": "e5a2992f",
    "outputId": "57c8eacf-f302-4ac9-d926-6d123e19ba28"
   },
   "outputs": [
    {
     "name": "stdout",
     "output_type": "stream",
     "text": [
      "{'name': 'spanish playlist', 'num_holdouts': 11, 'pid': 1000002, 'num_tracks': 11, 'tracks': [], 'num_samples': 0}\n"
     ]
    }
   ],
   "source": [
    "print((challenge_data[0]))"
   ]
  },
  {
   "cell_type": "code",
   "execution_count": null,
   "id": "1694bf1a",
   "metadata": {
    "id": "1694bf1a",
    "outputId": "353d6442-3f6d-4b4c-a10f-c7b1b35be95c"
   },
   "outputs": [
    {
     "name": "stderr",
     "output_type": "stream",
     "text": [
      "Progress: 100%|████████████████████████████████████████████| 10000/10000 [00:00<00:00, 41643.95it/s]\n"
     ]
    }
   ],
   "source": [
    "# Create challenge data with known tracks from training data\n",
    "\n",
    "CHALLENGE_SIZE = len(challenge_data)\n",
    "\n",
    "challenge_tracks_x = []\n",
    "challenge_pids = []\n",
    "count = 0\n",
    "\n",
    "progress_bar = tqdm(total = CHALLENGE_SIZE, desc = \"Progress\", ncols = 100)\n",
    "\n",
    "for playlist in challenge_data:\n",
    "\n",
    "        challenge_pids.append(playlist['pid'])\n",
    "        x_list = []\n",
    "\n",
    "        for i in range(playlist['num_samples']):\n",
    "            track = playlist['tracks'][i]\n",
    "            # Only accounting for the tracks in our training data - might lead to less than given number of tracks\n",
    "            if track['track_uri'] in tracks_dict:\n",
    "                track_id = tracks_dict[track['track_uri']]\n",
    "                x_list.append(track_id)\n",
    "        challenge_tracks_x.append(x_list)\n",
    "\n",
    "        progress_bar.update(1)\n",
    "progress_bar.close()"
   ]
  },
  {
   "cell_type": "code",
   "execution_count": null,
   "id": "c5f00902",
   "metadata": {
    "id": "c5f00902",
    "outputId": "92808581-68d2-474c-a976-65534bbad6bf"
   },
   "outputs": [
    {
     "name": "stderr",
     "output_type": "stream",
     "text": [
      "Progress: 100%|███████████████████████████████████████████████| 10000/10000 [05:11<00:00, 32.10it/s]\n"
     ]
    }
   ],
   "source": [
    "# Make predictions on challenge set\n",
    "\n",
    "challenge_tracks_y_pred = []\n",
    "\n",
    "progress_bar = tqdm(total = len(challenge_tracks_x), desc = \"Progress\", ncols = 100)\n",
    "\n",
    "for i in range(len(challenge_tracks_x)):\n",
    "    x_list = challenge_tracks_x[i]\n",
    "    x_set = set(x_list)\n",
    "    pred_dict = {}\n",
    "    for id_i in x_list:\n",
    "        for id_j in co_occurrence[id_i]:\n",
    "            if id_j not in x_set:\n",
    "                if id_j not in pred_dict:\n",
    "                    pred_dict[id_j] = co_occurrence[id_i][id_j]\n",
    "                else:\n",
    "                    pred_dict[id_j] += co_occurrence[id_i][id_j]\n",
    "    sorted_recs = sorted(pred_dict.items(), key = lambda item: item[1], reverse = True)\n",
    "    top_500_recs = [item[0] for item in sorted_recs[: 500]]\n",
    "\n",
    "    top_idx = 0\n",
    "    while len(top_500_recs) < 500:\n",
    "        if top_500_tracks[top_idx] not in top_500_recs:\n",
    "            top_500_recs.append(top_500_tracks[top_idx])\n",
    "        top_idx += 1\n",
    "\n",
    "    challenge_tracks_y_pred.append(top_500_recs)\n",
    "\n",
    "    progress_bar.update(1)\n",
    "progress_bar.close()"
   ]
  },
  {
   "cell_type": "code",
   "execution_count": null,
   "id": "4a618fd2",
   "metadata": {
    "id": "4a618fd2"
   },
   "outputs": [],
   "source": [
    "# Write to submission file\n",
    "with open(\"submission\" + str(TRAIN_N_K) + \"k.csv\", 'w', newline='') as file:\n",
    "    writer = csv.writer(file)\n",
    "\n",
    "    # Replace with your team name and id\n",
    "    team_info_line = ['team_info', 'Team TARDy', 'taejasgu@usc.edu']\n",
    "    writer.writerow(team_info_line)\n",
    "\n",
    "    for pid, tracks_list in zip(challenge_pids, challenge_tracks_y_pred):\n",
    "        tracks_uris = [reverse_tracks_dict[item] for item in tracks_list]\n",
    "        row = [pid] + tracks_uris\n",
    "        writer.writerow(row)"
   ]
  },
  {
   "cell_type": "code",
   "execution_count": null,
   "id": "66a6a257",
   "metadata": {
    "id": "66a6a257",
    "outputId": "978fadc9-789d-4c38-a3fe-00342e64bbbd"
   },
   "outputs": [
    {
     "name": "stdout",
     "output_type": "stream",
     "text": [
      "10000\n"
     ]
    }
   ],
   "source": [
    "print(len(challenge_pids))"
   ]
  },
  {
   "cell_type": "markdown",
   "id": "329eacde",
   "metadata": {
    "id": "329eacde"
   },
   "source": [
    "# Stratified Sampling Dataset"
   ]
  },
  {
   "cell_type": "code",
   "execution_count": null,
   "id": "65977161",
   "metadata": {
    "id": "65977161"
   },
   "outputs": [],
   "source": [
    "def get_stratified_test_set_data(filename):\n",
    "\n",
    "    stratified_data = []\n",
    "\n",
    "    data = json.load(open(filename))\n",
    "    for playlist in data[\"playlists\"]:\n",
    "        stratified_data.append(playlist)\n",
    "\n",
    "    return stratified_data"
   ]
  },
  {
   "cell_type": "code",
   "execution_count": null,
   "id": "3b0e9aeb",
   "metadata": {
    "id": "3b0e9aeb"
   },
   "outputs": [],
   "source": [
    "unordered_data = get_stratified_test_set_data(filename = \"Dataset/test_set_1k_1k_26_90_unordered.json\")\n",
    "ordered_data = get_stratified_test_set_data(filename = \"Dataset/test_set_1k_1k_26_90_ordered.json\")"
   ]
  },
  {
   "cell_type": "code",
   "execution_count": null,
   "id": "7ff31a8b",
   "metadata": {
    "id": "7ff31a8b",
    "outputId": "7b16be50-47fc-4e10-f727-1dfbc2aca8dd"
   },
   "outputs": [
    {
     "name": "stderr",
     "output_type": "stream",
     "text": [
      "Progress: 100%|██████████████████████████████████████████████| 1000/1000 [00:00<00:00, 71415.50it/s]\n",
      "Progress: 100%|██████████████████████████████████████████████| 1000/1000 [00:00<00:00, 38455.51it/s]\n"
     ]
    }
   ],
   "source": [
    "# Stratified sampled data with 1000 playlists having 25 tracks provided\n",
    "\n",
    "STRATIFIED_SIZE = 1000\n",
    "\n",
    "unordered_tracks_x = []\n",
    "ordered_tracks_x = []\n",
    "stratified_pids = []\n",
    "count = 0\n",
    "\n",
    "progress_bar = tqdm(total = STRATIFIED_SIZE, desc = \"Progress\", ncols = 100)\n",
    "\n",
    "for playlist in unordered_data:\n",
    "\n",
    "    stratified_pids.append(playlist['pid'])\n",
    "    x_list = []\n",
    "\n",
    "    for i in range(len(playlist['tracks'])):\n",
    "        track = playlist['tracks'][i]\n",
    "        # Only accounting for the tracks in our training data - will have at least 23 tracks as THRESHOLD_PERC is 90\n",
    "        if track['track_uri'] in tracks_dict:\n",
    "            track_id = tracks_dict[track['track_uri']]\n",
    "            x_list.append(track_id)\n",
    "    unordered_tracks_x.append(x_list)\n",
    "\n",
    "    progress_bar.update(1)\n",
    "progress_bar.close()\n",
    "\n",
    "progress_bar = tqdm(total = STRATIFIED_SIZE, desc = \"Progress\", ncols = 100)\n",
    "\n",
    "for playlist in ordered_data:\n",
    "\n",
    "    x_list = []\n",
    "\n",
    "    for i in range(len(playlist['tracks'])):\n",
    "        track = playlist['tracks'][i]\n",
    "        # Only accounting for the tracks in our training data - will have at least 23 tracks as THRESHOLD_PERC is 90\n",
    "        if track['track_uri'] in tracks_dict:\n",
    "            track_id = tracks_dict[track['track_uri']]\n",
    "            x_list.append(track_id)\n",
    "    ordered_tracks_x.append(x_list)\n",
    "\n",
    "    progress_bar.update(1)\n",
    "progress_bar.close()"
   ]
  },
  {
   "cell_type": "code",
   "execution_count": null,
   "id": "5e7b6a7b",
   "metadata": {
    "id": "5e7b6a7b",
    "outputId": "a3b444ab-0d4c-470d-a511-2ba373bcf1fc"
   },
   "outputs": [
    {
     "name": "stderr",
     "output_type": "stream",
     "text": [
      "Progress: 100%|█████████████████████████████████████████████████| 1000/1000 [00:48<00:00, 20.82it/s]\n",
      "Progress: 100%|█████████████████████████████████████████████████| 1000/1000 [00:46<00:00, 21.31it/s]\n"
     ]
    }
   ],
   "source": [
    "# Make predictions on stratified sampled set\n",
    "\n",
    "unordered_tracks_y_pred = []\n",
    "ordered_tracks_y_pred = []\n",
    "\n",
    "progress_bar = tqdm(total = len(unordered_tracks_x), desc = \"Progress\", ncols = 100)\n",
    "\n",
    "for i in range(len(unordered_tracks_x)):\n",
    "    x_list = unordered_tracks_x[i]\n",
    "    x_set = set(x_list)\n",
    "    pred_dict = {}\n",
    "    for id_i in x_list:\n",
    "        for id_j in co_occurrence[id_i]:\n",
    "            if id_j not in x_set:\n",
    "                if id_j not in pred_dict:\n",
    "                    pred_dict[id_j] = co_occurrence[id_i][id_j]\n",
    "                else:\n",
    "                    pred_dict[id_j] += co_occurrence[id_i][id_j]\n",
    "    sorted_recs = sorted(pred_dict.items(), key = lambda item: item[1], reverse = True)\n",
    "    top_500_recs = [item[0] for item in sorted_recs[: 500]]\n",
    "\n",
    "    top_idx = 0\n",
    "    while len(top_500_recs) < 500:\n",
    "        if top_500_tracks[top_idx] not in top_500_recs:\n",
    "            top_500_recs.append(top_500_tracks[top_idx])\n",
    "        top_idx += 1\n",
    "\n",
    "    unordered_tracks_y_pred.append(top_500_recs)\n",
    "\n",
    "    progress_bar.update(1)\n",
    "progress_bar.close()\n",
    "\n",
    "progress_bar = tqdm(total = len(unordered_tracks_x), desc = \"Progress\", ncols = 100)\n",
    "\n",
    "for i in range(len(ordered_tracks_x)):\n",
    "    x_list = ordered_tracks_x[i]\n",
    "    x_set = set(x_list)\n",
    "    pred_dict = {}\n",
    "    for id_i in x_list:\n",
    "        for id_j in co_occurrence[id_i]:\n",
    "            if id_j not in x_set:\n",
    "                if id_j not in pred_dict:\n",
    "                    pred_dict[id_j] = co_occurrence[id_i][id_j]\n",
    "                else:\n",
    "                    pred_dict[id_j] += co_occurrence[id_i][id_j]\n",
    "    sorted_recs = sorted(pred_dict.items(), key = lambda item: item[1], reverse = True)\n",
    "    top_500_recs = [item[0] for item in sorted_recs[: 500]]\n",
    "\n",
    "    top_idx = 0\n",
    "    while len(top_500_recs) < 500:\n",
    "        if top_500_tracks[top_idx] not in top_500_recs:\n",
    "            top_500_recs.append(top_500_tracks[top_idx])\n",
    "        top_idx += 1\n",
    "\n",
    "    ordered_tracks_y_pred.append(top_500_recs)\n",
    "\n",
    "    progress_bar.update(1)\n",
    "progress_bar.close()"
   ]
  },
  {
   "cell_type": "code",
   "execution_count": null,
   "id": "5df5d507",
   "metadata": {
    "id": "5df5d507"
   },
   "outputs": [],
   "source": [
    "# Write to json\n",
    "\n",
    "unordered_dict = {}\n",
    "ordered_dict = {}\n",
    "\n",
    "unordered_tracks_y_pred_uris = [[reverse_tracks_dict[key] for key in inner_list] for inner_list in unordered_tracks_y_pred]\n",
    "ordered_tracks_y_pred_uris = [[reverse_tracks_dict[key] for key in inner_list] for inner_list in ordered_tracks_y_pred]\n",
    "\n",
    "for i in range(len(stratified_pids)):\n",
    "    unordered_dict[stratified_pids[i]] = unordered_tracks_y_pred_uris[i]\n",
    "    ordered_dict[stratified_pids[i]] = ordered_tracks_y_pred_uris[i]\n",
    "\n",
    "with open(\"pred_1k_1k_26_90_unordered.json\", 'w') as pred_file:\n",
    "    json.dump(unordered_dict, pred_file, indent = 4)\n",
    "with open(\"pred_1k_1k_26_90_ordered.json\", 'w') as pred_file:\n",
    "    json.dump(ordered_dict, pred_file, indent = 4)"
   ]
  },
  {
   "cell_type": "markdown",
   "id": "9ae0d251",
   "metadata": {
    "id": "9ae0d251"
   },
   "source": [
    "# Only first track given in test playlist"
   ]
  },
  {
   "cell_type": "code",
   "execution_count": null,
   "id": "15d3bf63",
   "metadata": {
    "id": "15d3bf63"
   },
   "outputs": [],
   "source": [
    "def get_stratified_test_set_data(filename):\n",
    "\n",
    "    stratified_data = []\n",
    "\n",
    "    data = json.load(open(filename))\n",
    "    for playlist in data[\"playlists\"]:\n",
    "        stratified_data.append(playlist)\n",
    "\n",
    "    return stratified_data"
   ]
  },
  {
   "cell_type": "code",
   "execution_count": null,
   "id": "97c07b96",
   "metadata": {
    "id": "97c07b96"
   },
   "outputs": [],
   "source": [
    "ordered_data = get_stratified_test_set_data(filename = \"Dataset/test_set_10k_1k_2_90_ordered.json\")"
   ]
  },
  {
   "cell_type": "code",
   "execution_count": null,
   "id": "d1d8aae3",
   "metadata": {
    "id": "d1d8aae3",
    "outputId": "f2093edc-7287-4bb0-9709-be854b5cef31"
   },
   "outputs": [
    {
     "name": "stderr",
     "output_type": "stream",
     "text": [
      "Progress: 100%|█████████████████████████████████████████████| 1000/1000 [00:00<00:00, 142838.31it/s]\n"
     ]
    }
   ],
   "source": [
    "# Stratified sampled data with 1000 playlists having a single track provided\n",
    "\n",
    "STRATIFIED_SIZE = 1000\n",
    "\n",
    "ordered_tracks_x = []\n",
    "stratified_pids = []\n",
    "count = 0\n",
    "\n",
    "progress_bar = tqdm(total = STRATIFIED_SIZE, desc = \"Progress\", ncols = 100)\n",
    "\n",
    "for playlist in ordered_data:\n",
    "\n",
    "    stratified_pids.append(playlist['pid'])\n",
    "    x_list = []\n",
    "\n",
    "    for i in range(len(playlist['tracks'])):\n",
    "        track = playlist['tracks'][i]\n",
    "        # Guaranteed to have the track in our training data as THRESHOLD_PERC is 90 with only 1 track\n",
    "        if track['track_uri'] in tracks_dict:\n",
    "            track_id = tracks_dict[track['track_uri']]\n",
    "            x_list.append(track_id)\n",
    "    ordered_tracks_x.append(x_list)\n",
    "\n",
    "    progress_bar.update(1)\n",
    "progress_bar.close()"
   ]
  },
  {
   "cell_type": "code",
   "execution_count": null,
   "id": "cea47ba9",
   "metadata": {
    "id": "cea47ba9",
    "outputId": "ca62f693-3bd5-4dd7-dd17-cbb798029a34"
   },
   "outputs": [
    {
     "name": "stderr",
     "output_type": "stream",
     "text": [
      "Progress: 100%|████████████████████████████████████████████████| 1000/1000 [00:02<00:00, 358.57it/s]\n"
     ]
    }
   ],
   "source": [
    "# Make predictions on stratified sampled set\n",
    "\n",
    "ordered_tracks_y_pred = []\n",
    "\n",
    "progress_bar = tqdm(total = len(ordered_tracks_x), desc = \"Progress\", ncols = 100)\n",
    "\n",
    "for i in range(len(ordered_tracks_x)):\n",
    "    x_list = ordered_tracks_x[i]\n",
    "    x_set = set(x_list)\n",
    "    pred_dict = {}\n",
    "    for id_i in x_list:\n",
    "        for id_j in co_occurrence[id_i]:\n",
    "            if id_j not in x_set:\n",
    "                if id_j not in pred_dict:\n",
    "                    pred_dict[id_j] = co_occurrence[id_i][id_j]\n",
    "                else:\n",
    "                    pred_dict[id_j] += co_occurrence[id_i][id_j]\n",
    "    sorted_recs = sorted(pred_dict.items(), key = lambda item: item[1], reverse = True)\n",
    "    top_500_recs = [item[0] for item in sorted_recs[: 500]]\n",
    "\n",
    "    top_idx = 0\n",
    "    while len(top_500_recs) < 500:\n",
    "        if top_500_tracks[top_idx] not in top_500_recs:\n",
    "            top_500_recs.append(top_500_tracks[top_idx])\n",
    "        top_idx += 1\n",
    "\n",
    "    ordered_tracks_y_pred.append(top_500_recs)\n",
    "\n",
    "    progress_bar.update(1)\n",
    "progress_bar.close()"
   ]
  },
  {
   "cell_type": "code",
   "execution_count": null,
   "id": "7a165271",
   "metadata": {
    "id": "7a165271"
   },
   "outputs": [],
   "source": [
    "# Write to json\n",
    "\n",
    "ordered_dict = {}\n",
    "\n",
    "ordered_tracks_y_pred_uris = [[reverse_tracks_dict[key] for key in inner_list] for inner_list in ordered_tracks_y_pred]\n",
    "\n",
    "for i in range(len(stratified_pids)):\n",
    "    ordered_dict[stratified_pids[i]] = ordered_tracks_y_pred_uris[i]\n",
    "\n",
    "with open(\"pred_10k_1k_2_90_ordered.json\", 'w') as pred_file:\n",
    "    json.dump(ordered_dict, pred_file, indent = 4)"
   ]
  }
 ],
 "metadata": {
  "colab": {
   "provenance": []
  },
  "kernelspec": {
   "display_name": "Python 3 (ipykernel)",
   "language": "python",
   "name": "python3"
  },
  "language_info": {
   "codemirror_mode": {
    "name": "ipython",
    "version": 3
   },
   "file_extension": ".py",
   "mimetype": "text/x-python",
   "name": "python",
   "nbconvert_exporter": "python",
   "pygments_lexer": "ipython3",
   "version": "3.11.5"
  }
 },
 "nbformat": 4,
 "nbformat_minor": 5
}
