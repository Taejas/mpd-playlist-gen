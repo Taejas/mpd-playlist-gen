{
 "cells": [
  {
   "cell_type": "code",
   "execution_count": null,
   "id": "83fd3f2d",
   "metadata": {
    "id": "83fd3f2d"
   },
   "outputs": [],
   "source": [
    "import json\n",
    "import matplotlib.pyplot as plt\n",
    "import numpy as np\n",
    "import random\n",
    "from tqdm import tqdm"
   ]
  },
  {
   "cell_type": "markdown",
   "id": "20bfdf0f",
   "metadata": {
    "id": "20bfdf0f"
   },
   "source": [
    "### Train and test data size and paths"
   ]
  },
  {
   "cell_type": "code",
   "execution_count": null,
   "id": "ff6a4587",
   "metadata": {
    "id": "ff6a4587"
   },
   "outputs": [],
   "source": [
    "# Number of playlists to use for the training data to determine known tracks (in thousands)\n",
    "N_TRAIN_K = 100\n",
    "\n",
    "# pid of first playlist of the training data\n",
    "TRAIN_STAGGER = 0\n",
    "\n",
    "# Number of playlists to sample for the test data (in thousands)\n",
    "N_TEST_K = 1\n",
    "\n",
    "# Number of playlists to load as candidates for the final N_TEST_K stratified samples (in thousands)\n",
    "N_TEST_CANDIDATE_K = 10\n",
    "\n",
    "# pid of first playlist of the test data\n",
    "TEST_STAGGER = 900000\n",
    "\n",
    "# Path to the folder containing the MPD slices\n",
    "DATA_PATH = \"Dataset/spotify_million_playlist_dataset/data/\"\n",
    "\n",
    "# Path to the folder in which the test dataset file is to be created\n",
    "TEST_DATA_PATH = \"Dataset/\""
   ]
  },
  {
   "cell_type": "markdown",
   "id": "bce9c063",
   "metadata": {
    "id": "bce9c063"
   },
   "source": [
    "### Thresholds for stratified sampling"
   ]
  },
  {
   "cell_type": "code",
   "execution_count": null,
   "id": "726f56b7",
   "metadata": {
    "id": "726f56b7"
   },
   "outputs": [],
   "source": [
    "############################################################################################################################\n",
    "# Minimum number of known tracks for each sampled playlist\n",
    "# Keep this number greater than the number of tracks being used for predicting the remaining tracks\n",
    "# If 25 tracks per playlist are being used for predicting the remaining tracks, keep this value greater than or equal to 26\n",
    "############################################################################################################################\n",
    "THRESHOLD_NUM = 2\n",
    "\n",
    "############################################################################################################################\n",
    "# Minimum percentage of known tracks for each sampled playlist\n",
    "# A large percentage value might cause popular songs to dominate the playlist\n",
    "# A small percentage value might lead to insufficient representation of the true nature of the playlist\n",
    "############################################################################################################################\n",
    "THRESHOLD_PERC = 90"
   ]
  },
  {
   "cell_type": "code",
   "execution_count": null,
   "id": "76b81b43",
   "metadata": {
    "id": "76b81b43"
   },
   "outputs": [],
   "source": [
    "def get_nk_playlist_data(n = 10, stagger = 0):\n",
    "\n",
    "    combined_data = []\n",
    "    progress_bar = tqdm(total = n, desc = \"Progress\", ncols = 100)\n",
    "\n",
    "    for i in range(n):\n",
    "        i1 = stagger + i * 1000\n",
    "        i2 = stagger + i * 1000 + 999\n",
    "        filename = DATA_PATH + \"mpd.slice.\" + str(i1) + \"-\" + str(i2) + \".json\"\n",
    "        data = json.load(open(filename))\n",
    "        for playlist in data[\"playlists\"]:\n",
    "            combined_data.append(playlist)\n",
    "        progress_bar.update(1)\n",
    "    progress_bar.close()\n",
    "\n",
    "    return combined_data"
   ]
  },
  {
   "cell_type": "code",
   "execution_count": null,
   "id": "6fc4d811",
   "metadata": {
    "id": "6fc4d811",
    "outputId": "93ad33b4-6c52-442a-98f2-cc06a4a3e669"
   },
   "outputs": [
    {
     "name": "stderr",
     "output_type": "stream",
     "text": [
      "Progress: 100%|███████████████████████████████████████████████████| 100/100 [00:14<00:00,  6.67it/s]\n"
     ]
    }
   ],
   "source": [
    "train_data = get_nk_playlist_data(n = N_TRAIN_K, stagger = TRAIN_STAGGER)"
   ]
  },
  {
   "cell_type": "markdown",
   "id": "0b32b230",
   "metadata": {
    "id": "0b32b230"
   },
   "source": [
    "## Identifying the known tracks from the training data"
   ]
  },
  {
   "cell_type": "code",
   "execution_count": null,
   "id": "0a4e30b3",
   "metadata": {
    "id": "0a4e30b3",
    "outputId": "a435e1e9-29be-42e6-ca1a-f07586037710"
   },
   "outputs": [
    {
     "name": "stderr",
     "output_type": "stream",
     "text": [
      "Progress: 100%|██████████████████████████████████████████| 100000/100000 [00:02<00:00, 42367.75it/s]\n"
     ]
    }
   ],
   "source": [
    "tracks_dict = {}\n",
    "idx = 1\n",
    "\n",
    "progress_bar = tqdm(total = len(train_data), desc = \"Progress\", ncols = 100)\n",
    "\n",
    "for playlist in train_data:\n",
    "\n",
    "    for track in playlist['tracks']:\n",
    "        if track['track_uri'] not in tracks_dict:\n",
    "            tracks_dict[track['track_uri']] = idx\n",
    "            idx += 1\n",
    "\n",
    "    progress_bar.update(1)\n",
    "progress_bar.close()"
   ]
  },
  {
   "cell_type": "code",
   "execution_count": null,
   "id": "93e2541e",
   "metadata": {
    "id": "93e2541e",
    "outputId": "b756c8b7-2476-4dfa-e8e8-ef24f08971c5"
   },
   "outputs": [
    {
     "name": "stdout",
     "output_type": "stream",
     "text": [
      "681805\n"
     ]
    }
   ],
   "source": [
    "# Number of known tracks\n",
    "print(len(tracks_dict))"
   ]
  },
  {
   "cell_type": "markdown",
   "id": "4240c4ba",
   "metadata": {
    "id": "4240c4ba"
   },
   "source": [
    "## Creating test dataset using stratified sampling"
   ]
  },
  {
   "cell_type": "code",
   "execution_count": null,
   "id": "2839433d",
   "metadata": {
    "id": "2839433d",
    "outputId": "90610fa7-6384-40c9-cc11-45d4e35e3f2f"
   },
   "outputs": [
    {
     "name": "stderr",
     "output_type": "stream",
     "text": [
      "Progress: 100%|█████████████████████████████████████████████████████| 10/10 [00:01<00:00,  6.71it/s]\n"
     ]
    }
   ],
   "source": [
    "test_data = get_nk_playlist_data(n = N_TEST_CANDIDATE_K, stagger = TEST_STAGGER)"
   ]
  },
  {
   "cell_type": "code",
   "execution_count": null,
   "id": "908e88da",
   "metadata": {
    "id": "908e88da",
    "outputId": "def9759b-2457-400d-8adb-6bb9f7b22157"
   },
   "outputs": [
    {
     "name": "stderr",
     "output_type": "stream",
     "text": [
      "Progress: 100%|██████████████████████████████████████████████| 1000/1000 [00:00<00:00, 21227.09it/s]\n"
     ]
    }
   ],
   "source": [
    "test_playlists = []\n",
    "count = 0\n",
    "n_test = N_TEST_K * 1000\n",
    "\n",
    "progress_bar = tqdm(total = n_test, desc = \"Progress\", ncols = 100)\n",
    "\n",
    "for playlist in test_data:\n",
    "\n",
    "    if playlist['num_tracks'] >= THRESHOLD_NUM:\n",
    "\n",
    "        known_tracks = []\n",
    "        for i in range(playlist['num_tracks']):\n",
    "            track = playlist['tracks'][i]\n",
    "            if track['track_uri'] in tracks_dict:\n",
    "                known_tracks.append(track)\n",
    "\n",
    "        if len(known_tracks) >= THRESHOLD_NUM and len(known_tracks) / playlist['num_tracks'] >= THRESHOLD_PERC / 100:\n",
    "            playlist['tracks'] = known_tracks\n",
    "            test_playlists.append(playlist)\n",
    "\n",
    "            count += 1\n",
    "            progress_bar.update(1)\n",
    "            if count >= n_test:\n",
    "                break\n",
    "\n",
    "progress_bar.close()"
   ]
  },
  {
   "cell_type": "code",
   "execution_count": null,
   "id": "51e2c803",
   "metadata": {
    "id": "51e2c803",
    "outputId": "4052d956-98ed-4cb3-9381-3eb15d5fbc69"
   },
   "outputs": [
    {
     "name": "stdout",
     "output_type": "stream",
     "text": [
      "1000\n"
     ]
    }
   ],
   "source": [
    "# Number of playlists obtained using stratified sampling\n",
    "print(len(test_playlists))"
   ]
  },
  {
   "cell_type": "code",
   "execution_count": null,
   "id": "beabe8cb",
   "metadata": {
    "id": "beabe8cb"
   },
   "outputs": [],
   "source": [
    "test_dataset = {\"playlists\": test_playlists}\n",
    "filename = TEST_DATA_PATH + \"test_set_\" + str(N_TRAIN_K) + \"k_\" + str(N_TEST_K) + \"k_\" + str(THRESHOLD_NUM) + \"_\" + str(THRESHOLD_PERC)\n",
    "with open(filename, 'w') as json_file:\n",
    "    json.dump(test_dataset, json_file, indent = 4)"
   ]
  }
 ],
 "metadata": {
  "colab": {
   "provenance": []
  },
  "kernelspec": {
   "display_name": "Python 3 (ipykernel)",
   "language": "python",
   "name": "python3"
  },
  "language_info": {
   "codemirror_mode": {
    "name": "ipython",
    "version": 3
   },
   "file_extension": ".py",
   "mimetype": "text/x-python",
   "name": "python",
   "nbconvert_exporter": "python",
   "pygments_lexer": "ipython3",
   "version": "3.11.5"
  }
 },
 "nbformat": 4,
 "nbformat_minor": 5
}
