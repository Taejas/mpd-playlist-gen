{
 "cells": [
  {
   "cell_type": "code",
   "execution_count": null,
   "id": "3b0b09ab",
   "metadata": {
    "id": "3b0b09ab"
   },
   "outputs": [],
   "source": [
    "import csv\n",
    "import json\n",
    "import matplotlib.pyplot as plt\n",
    "import numpy as np\n",
    "import pickle\n",
    "import random\n",
    "from tqdm import tqdm"
   ]
  },
  {
   "cell_type": "code",
   "execution_count": null,
   "id": "ead89b25",
   "metadata": {
    "id": "ead89b25"
   },
   "outputs": [],
   "source": [
    "def get_nk_playlist_data(n = 10, stagger = 0):\n",
    "\n",
    "    combined_data = []\n",
    "    progress_bar = tqdm(total = n, desc = \"Progress\", ncols = 100)\n",
    "\n",
    "    for i in range(n):\n",
    "        i1 = stagger + i * 1000\n",
    "        i2 = stagger + i * 1000 + 999\n",
    "        filename = \"Dataset/spotify_million_playlist_dataset/data/mpd.slice.\" + str(i1) + \"-\" + str(i2) + \".json\"\n",
    "        data = json.load(open(filename))\n",
    "        for playlist in data[\"playlists\"]:\n",
    "            combined_data.append(playlist)\n",
    "        progress_bar.update(1)\n",
    "    progress_bar.close()\n",
    "\n",
    "    return combined_data"
   ]
  },
  {
   "cell_type": "code",
   "execution_count": null,
   "id": "1562e908",
   "metadata": {
    "id": "1562e908",
    "outputId": "29219cff-93b5-4c40-e660-bc525e18fb6a"
   },
   "outputs": [
    {
     "name": "stderr",
     "output_type": "stream",
     "text": [
      "Progress: 100%|█████████████████████████████████████████████████████| 10/10 [00:01<00:00,  6.72it/s]\n"
     ]
    }
   ],
   "source": [
    "TRAIN_N_K = 10\n",
    "train_data = get_nk_playlist_data(n = TRAIN_N_K)"
   ]
  },
  {
   "cell_type": "code",
   "execution_count": null,
   "id": "adee6e60",
   "metadata": {
    "id": "adee6e60"
   },
   "outputs": [],
   "source": [
    "# Assign value 1 if key is not present in dictionary, else increment value by 1\n",
    "def increment_dict_val(D, k):\n",
    "    if k not in D:\n",
    "        D[k] = 1\n",
    "    else:\n",
    "        D[k] += 1"
   ]
  },
  {
   "cell_type": "code",
   "execution_count": null,
   "id": "b5cfa59c",
   "metadata": {
    "id": "b5cfa59c",
    "outputId": "3fe36d44-2546-451d-f022-560ea7d390c9"
   },
   "outputs": [
    {
     "name": "stderr",
     "output_type": "stream",
     "text": [
      "Progress: 100%|████████████████████████████████████████████| 10000/10000 [00:00<00:00, 15862.84it/s]\n"
     ]
    }
   ],
   "source": [
    "# Create a transition dictionary using the training data\n",
    "\n",
    "tracks_dict = {}\n",
    "transition = {}\n",
    "tracks_fq = {}\n",
    "idx = 1\n",
    "\n",
    "progress_bar = tqdm(total = len(train_data), desc = \"Progress\", ncols = 100)\n",
    "\n",
    "for playlist in train_data:\n",
    "\n",
    "    prev_id = 0\n",
    "\n",
    "    for track in playlist['tracks']:\n",
    "        if track['track_uri'] not in tracks_dict:\n",
    "            tracks_dict[track['track_uri']] = idx\n",
    "            idx += 1\n",
    "\n",
    "        track_id = tracks_dict[track['track_uri']]\n",
    "\n",
    "        if prev_id not in transition:\n",
    "            transition[prev_id] = {track_id: 1}\n",
    "        elif track_id not in transition[prev_id]:\n",
    "            transition[prev_id][track_id] = 1\n",
    "        else:\n",
    "            transition[prev_id][track_id] += 1\n",
    "\n",
    "        increment_dict_val(tracks_fq, track_id)\n",
    "\n",
    "        prev_id = track_id\n",
    "\n",
    "    progress_bar.update(1)\n",
    "progress_bar.close()\n",
    "\n",
    "for key in transition:\n",
    "    transition[key] = sorted(transition[key].items(), key=lambda x: x[1], reverse=True)\n",
    "\n",
    "tracks_fq = dict(sorted(tracks_fq.items(), key=lambda item: item[1], reverse=True))\n",
    "reverse_tracks_dict = {v: k for k, v in tracks_dict.items()}\n",
    "top_500_tracks = list(tracks_fq.keys())[: 500]"
   ]
  },
  {
   "cell_type": "code",
   "execution_count": null,
   "id": "83c64154",
   "metadata": {
    "id": "83c64154"
   },
   "outputs": [],
   "source": [
    "def get_stratified_test_set_data(filename):\n",
    "\n",
    "    stratified_data = []\n",
    "\n",
    "    data = json.load(open(filename))\n",
    "    for playlist in data[\"playlists\"]:\n",
    "        stratified_data.append(playlist)\n",
    "\n",
    "    return stratified_data"
   ]
  },
  {
   "cell_type": "code",
   "execution_count": null,
   "id": "6c001e31",
   "metadata": {
    "id": "6c001e31"
   },
   "outputs": [],
   "source": [
    "ordered_data = get_stratified_test_set_data(filename = \"Dataset/test_set_10k_1k_2_90_ordered.json\")"
   ]
  },
  {
   "cell_type": "code",
   "execution_count": null,
   "id": "92785010",
   "metadata": {
    "id": "92785010",
    "outputId": "b33968e4-2031-4578-ea82-dbba5d5c5d9b"
   },
   "outputs": [
    {
     "name": "stderr",
     "output_type": "stream",
     "text": [
      "Progress: 100%|█████████████████████████████████████████████| 1000/1000 [00:00<00:00, 124726.54it/s]\n"
     ]
    }
   ],
   "source": [
    "# Stratified sampling data with 1000 playlists having 1 track provided\n",
    "\n",
    "STRATIFIED_SIZE = 1000\n",
    "\n",
    "ordered_tracks_x = []\n",
    "stratified_pids = []\n",
    "count = 0\n",
    "\n",
    "progress_bar = tqdm(total = STRATIFIED_SIZE, desc = \"Progress\", ncols = 100)\n",
    "\n",
    "for playlist in ordered_data:\n",
    "\n",
    "    stratified_pids.append(playlist['pid'])\n",
    "    x_list = []\n",
    "\n",
    "    for i in range(len(playlist['tracks'])):\n",
    "        track = playlist['tracks'][i]\n",
    "        # Guaranteed to have the track in our training data as THRESHOLD_PERC is 90 with only 1 track\n",
    "        if track['track_uri'] in tracks_dict:\n",
    "            track_id = tracks_dict[track['track_uri']]\n",
    "            x_list.append(track_id)\n",
    "    ordered_tracks_x.append(x_list)\n",
    "\n",
    "    progress_bar.update(1)\n",
    "progress_bar.close()"
   ]
  },
  {
   "cell_type": "code",
   "execution_count": null,
   "id": "ddbc64fd",
   "metadata": {
    "id": "ddbc64fd",
    "outputId": "fd2d6f22-4770-4d28-da88-846800503445"
   },
   "outputs": [
    {
     "name": "stderr",
     "output_type": "stream",
     "text": [
      "Progress: 100%|████████████████████████████████████████████████| 1000/1000 [00:01<00:00, 724.31it/s]\n"
     ]
    }
   ],
   "source": [
    "# Make predictions on stratified sampled set\n",
    "\n",
    "ordered_tracks_y_pred = []\n",
    "\n",
    "progress_bar = tqdm(total = len(ordered_tracks_x), desc = \"Progress\", ncols = 100)\n",
    "\n",
    "for i in range(len(ordered_tracks_x)):\n",
    "    x_list = ordered_tracks_x[i]\n",
    "    x_set = set(x_list)\n",
    "    prev_id = x_list[0]\n",
    "    top_500_recs = []\n",
    "\n",
    "    for inner_i in range(500):\n",
    "        if prev_id in transition.keys():\n",
    "            for (k, v) in transition[prev_id]:\n",
    "                if k not in x_set and k not in top_500_recs:\n",
    "                    top_500_recs.append(k)\n",
    "                    prev_id = k\n",
    "                    break\n",
    "        else:\n",
    "            break\n",
    "\n",
    "    top_idx = 0\n",
    "    while len(top_500_recs) < 500:\n",
    "        if top_500_tracks[top_idx] not in top_500_recs:\n",
    "            top_500_recs.append(top_500_tracks[top_idx])\n",
    "        top_idx += 1\n",
    "\n",
    "    ordered_tracks_y_pred.append(top_500_recs)\n",
    "\n",
    "    progress_bar.update(1)\n",
    "progress_bar.close()"
   ]
  },
  {
   "cell_type": "code",
   "execution_count": null,
   "id": "6befd2bc",
   "metadata": {
    "id": "6befd2bc",
    "outputId": "bf0daebc-c75c-4d3c-832c-9d8cc34e34fc"
   },
   "outputs": [
    {
     "name": "stdout",
     "output_type": "stream",
     "text": [
      "[15965, 15966, 15967, 16403, 15964, 2224, 2220, 2221, 2222, 2223, 113491, 34413, 2026, 2024, 2025, 2467, 17396, 17411, 17412, 17397, 18914, 5917, 2861, 11576, 11561, 2334, 2858, 2860, 2857, 17342, 2169, 40420, 2168, 12388, 26960, 502, 11567, 11772, 2321, 2322, 2323, 2324, 22617, 6101, 6099, 33267, 11778, 11530, 11532, 13928, 23780, 11534, 12050, 48393, 15892, 15893, 15894, 15895, 12324, 12325, 12326, 12327, 2147, 8490, 2145, 2146, 17392, 17380, 67272, 67273, 67274, 24808, 1655, 3714, 2706, 5984, 2700, 11140, 16812, 8995, 22581, 24270, 24271, 22330, 18303, 24272, 18304, 22331, 24273, 24274, 14437, 2705, 1332, 4101, 10772, 2715, 28208, 87609, 44783, 94807, 23340, 61457, 73444, 16808, 48694, 34111, 4092, 565, 2014, 331, 1009, 328, 2368, 4066, 8288, 8499, 20222, 20223, 8005, 8517, 963, 7973, 2115, 2416, 4647, 708, 1300, 13331, 13328, 13329, 4288, 18159, 18826, 1669, 1665, 4291, 13762, 445, 46353, 23261, 23262, 23263, 23264, 23265, 23266, 23267, 23268, 23269, 7775, 7798, 3678, 7835, 3095, 2004, 2351, 20161, 4619, 16963, 29025, 27422, 10661, 29026, 36423, 25889, 8520, 8521, 22803, 3018, 16389, 18158, 8513, 36430, 14459, 1046, 15911, 12679, 29289, 3562, 8310, 8316, 1043, 7054, 5688, 6421, 2365, 7990, 8446, 4743, 4215, 522, 3539, 12927, 9804, 3540, 18015, 2166, 1591, 1855, 6402, 1926, 8448, 8756, 12897, 26933, 26934, 14431, 26146, 1286, 7522, 7521, 511, 2699, 2701, 1334, 2702, 1397, 4773, 1415, 532, 505, 38924, 8926, 9627, 8924, 16806, 6904, 6905, 3193, 309, 77, 71, 12715, 15150, 26570, 2507, 769, 26606, 37881, 10867, 74441, 74442, 74443, 74444, 74445, 69087, 329, 11683, 13784, 3049, 13786, 7982, 938, 975, 6926, 4688, 4689, 1921, 1243, 7676, 2398, 1246, 1247, 7677, 7678, 6807, 7679, 6808, 6809, 7680, 2378, 1245, 3677, 7699, 6805, 6806, 3676, 7700, 7701, 7702, 69202, 43457, 69201, 66571, 21202, 4194, 21203, 69204, 69194, 65481, 57764, 46114, 46115, 46116, 46117, 46118, 46119, 46120, 30093, 30091, 30092, 7250, 7251, 7252, 7253, 3689, 3690, 3691, 3692, 3693, 34347, 34348, 34349, 34350, 16338, 34351, 34352, 34353, 34354, 171, 172, 173, 174, 175, 176, 177, 178, 179, 180, 181, 14467, 20277, 14890, 84098, 14909, 14976, 51204, 20006, 20007, 20008, 32548, 8932, 11310, 11311, 11312, 11313, 1782, 1783, 1647, 1829, 1582, 7874, 2105, 12382, 6930, 2125, 2006, 11931, 11932, 2009, 11933, 11934, 648, 291, 813, 814, 815, 13421, 797, 6332, 13898, 7730, 13899, 8940, 8941, 8942, 10821, 10831, 14795, 14796, 14797, 14798, 4375, 14235, 59483, 11595, 11596, 4171, 4170, 4169, 12714, 4173, 7919, 711, 712, 2401, 1875, 2109, 2075, 1874, 1588, 6423, 8301, 8303, 7871, 6393, 8712, 28070, 31226, 8711, 8710, 45467, 1654, 1657, 3249, 3963, 28997, 1309, 13982, 67283, 67284, 18338, 18334, 18335, 18336, 18337, 4639, 3148, 4838, 5267, 1412, 5272, 24548, 30172, 5263, 5278, 5268, 1379, 5270, 5282, 8440, 4209, 542, 18853, 3537, 18854, 13181, 13562, 3538, 13563, 4835, 4797, 13176, 50158, 50159, 50160, 50161, 4833, 8918, 539, 1953, 546, 13730, 13731, 368, 2136, 1712, 1713, 1218, 20246, 5488, 16148, 16149, 2072, 4208, 20238, 16835, 54018, 41047, 28362, 24410, 6058, 9397, 42588, 48082, 47938, 20239, 41048, 16836, 12115, 5699, 2414, 63757, 53906, 22866, 35076, 35917, 77259, 22869, 35703, 22880]\n"
     ]
    }
   ],
   "source": [
    "print(top_500_recs)"
   ]
  },
  {
   "cell_type": "code",
   "execution_count": null,
   "id": "63e7ce19",
   "metadata": {
    "id": "63e7ce19"
   },
   "outputs": [],
   "source": [
    "# Write to json\n",
    "\n",
    "ordered_dict = {}\n",
    "\n",
    "ordered_tracks_y_pred_uris = [[reverse_tracks_dict[key] for key in inner_list] for inner_list in ordered_tracks_y_pred]\n",
    "\n",
    "for i in range(len(stratified_pids)):\n",
    "    ordered_dict[stratified_pids[i]] = ordered_tracks_y_pred_uris[i]\n",
    "\n",
    "with open(\"pred_10k_1k_2_90_ordered_markov.json\", 'w') as pred_file:\n",
    "    json.dump(ordered_dict, pred_file, indent = 4)"
   ]
  }
 ],
 "metadata": {
  "colab": {
   "provenance": []
  },
  "kernelspec": {
   "display_name": "Python 3 (ipykernel)",
   "language": "python",
   "name": "python3"
  },
  "language_info": {
   "codemirror_mode": {
    "name": "ipython",
    "version": 3
   },
   "file_extension": ".py",
   "mimetype": "text/x-python",
   "name": "python",
   "nbconvert_exporter": "python",
   "pygments_lexer": "ipython3",
   "version": "3.11.5"
  }
 },
 "nbformat": 4,
 "nbformat_minor": 5
}
